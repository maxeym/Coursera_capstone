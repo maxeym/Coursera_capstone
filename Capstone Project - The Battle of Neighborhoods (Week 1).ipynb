{
  "cells": [
    {
      "metadata": {},
      "cell_type": "markdown",
      "source": "# Which city to chose for your next citytrip?\n## What problem to solve?\nWhen you like to go on a city trip it’s always difficult to chose which city will be next. If you like a city how can you then tell what is the next city that you will most likely en enjoy to visit. To make this choice easier all big city’s in the world will be grouped based on the venues that can be found within walking distance of there city center. This analysis will be interesting for people looking for there next nonstandard city trip, or company’s advising tourist based on previous preferences. \n\n## what data to use?\nFirst we wil define big city’s as city’s with a population of over 500.000. The website (https://worldpopulationreview.com/world-cities/) provides a comprehensive list of those city’s. Walking distance will be defined as 5km from the city center. We will ask the Foursquare API to provide a list of the top 1000 venues within the walking distance of the city center. This data will be analyzed, clustered and visualized on a word map. \n"
    }
  ],
  "metadata": {
    "kernelspec": {
      "name": "python36",
      "display_name": "Python 3.6",
      "language": "python"
    },
    "language_info": {
      "mimetype": "text/x-python",
      "nbconvert_exporter": "python",
      "name": "python",
      "pygments_lexer": "ipython3",
      "version": "3.6.6",
      "file_extension": ".py",
      "codemirror_mode": {
        "version": 3,
        "name": "ipython"
      }
    }
  },
  "nbformat": 4,
  "nbformat_minor": 1
}