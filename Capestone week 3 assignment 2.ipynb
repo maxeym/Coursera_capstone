{
  "cells": [
    {
      "metadata": {},
      "cell_type": "markdown",
      "source": "# Segmenting and Clustering Neighborhoods in Toronto\nThis notebook is used for the pear-graded assignment of the data science capstone course, week 3."
    },
    {
      "metadata": {},
      "cell_type": "markdown",
      "source": "there are tree sub assignments to do. they will be marked by titles for quick reference:\n    - assignment 1\n    - assignment 2\n    - assignment 3"
    },
    {
      "metadata": {},
      "cell_type": "markdown",
      "source": "Before we get the data and start exploring it, let's download all the dependencies that we will need."
    },
    {
      "metadata": {
        "trusted": true,
        "collapsed": true
      },
      "cell_type": "code",
      "source": "import numpy as np # library to handle data in a vectorized manner\n\nimport pandas as pd # library for data analsysis\npd.set_option('display.max_columns', None)\npd.set_option('display.max_rows', None)\n\nimport json # library to handle JSON files\n\nimport requests # library to handle requests\nfrom pandas.io.json import json_normalize # tranform JSON file into a pandas dataframe\n\n# Matplotlib and associated plotting modules\nimport matplotlib.cm as cm\nimport matplotlib.colors as colors\n\n# import k-means from clustering stage\nfrom sklearn.cluster import KMeans\n\nprint('Libraries imported.')",
      "execution_count": 1,
      "outputs": [
        {
          "output_type": "stream",
          "text": "Libraries imported.\n",
          "name": "stdout"
        }
      ]
    },
    {
      "metadata": {
        "trusted": true,
        "collapsed": true
      },
      "cell_type": "code",
      "source": "!conda install -c conda-forge geopy --yes # uncomment this line if you haven't completed the Foursquare API lab\nfrom geopy.geocoders import Nominatim # convert an address into latitude and longitude values\n\n!conda install -c conda-forge folium=0.5.0 --yes # uncomment this line if you haven't completed the Foursquare API lab\nimport folium # map rendering library",
      "execution_count": null,
      "outputs": [
        {
          "output_type": "stream",
          "text": "Solving environment: \\ \nWarning: 4 possible package resolutions (only showing differing packages):\n  - anaconda::ca-certificates-2017.08.26-h1d4fec5_0, anaconda::openssl-1.0.2n-hb7f436b_0\n  - anaconda::ca-certificates-2017.08.26-h1d4fec5_0, defaults::openssl-1.0.2n-hb7f436b_0\n  - anaconda::openssl-1.0.2n-hb7f436b_0, defaults::ca-certificates-2017.08.26-h1d4fec5_0\n  - defaults::ca-certificates-2017.08.26-h1d4fec5_0, defaults::openssl-1.0.2n-hb7f436bdone\n\n\n==> WARNING: A newer version of conda exists. <==\n  current version: 4.5.11\n  latest version: 4.8.3\n\nPlease update conda by running\n\n    $ conda update -n base conda\n\n\n\n# All requested packages already installed.\n\nSolving environment: / ",
          "name": "stdout"
        }
      ]
    },
    {
      "metadata": {},
      "cell_type": "markdown",
      "source": "## assignment 1\nIn this assignment we wil scrape date from the following wikipedia page (https://en.wikipedia.org/wiki/List_of_postal_codes_of_Canada:_M) and insert it in an pandas dataframe."
    },
    {
      "metadata": {
        "trusted": true
      },
      "cell_type": "code",
      "source": "#first we need to install the BeautifulSoup package\n!conda install -c anaconda beautifulsoup4 --yes",
      "execution_count": null,
      "outputs": []
    },
    {
      "metadata": {},
      "cell_type": "markdown",
      "source": "To get the dataframe into pandas we will use beautifulsoup to scrape the website and turn it into a dataframe. "
    },
    {
      "metadata": {
        "trusted": true
      },
      "cell_type": "code",
      "source": "from bs4 import BeautifulSoup\n# Here, we're just importing Beautiful Soup\npage_link = 'https://en.m.wikipedia.org/wiki/List_of_postal_codes_of_Canada:_M'\n# this is the url.\npage_response = requests.get(page_link, timeout=5)\n# here, we fetch the content from the url, using the requests library\nsoup = BeautifulSoup(page_response.content, \"html.parser\")\n#we use the html parser to parse the url content and store it in a variable.\ntable = soup.find_all('table')\ndf = pd.read_html(str(table), header=0)[0]",
      "execution_count": 2,
      "outputs": []
    },
    {
      "metadata": {},
      "cell_type": "markdown",
      "source": "Now we got the raw table from the website into a pandas dataframe. the next step is to explore and clean the data."
    },
    {
      "metadata": {
        "trusted": true,
        "collapsed": true
      },
      "cell_type": "code",
      "source": "print(df.shape)\ndf.head()",
      "execution_count": 3,
      "outputs": [
        {
          "output_type": "stream",
          "text": "(180, 3)\n",
          "name": "stdout"
        },
        {
          "output_type": "execute_result",
          "execution_count": 3,
          "data": {
            "text/plain": "  Postal code           Borough                Neighborhood\n0         M1A      Not assigned                         NaN\n1         M2A      Not assigned                         NaN\n2         M3A        North York                   Parkwoods\n3         M4A        North York            Victoria Village\n4         M5A  Downtown Toronto  Regent Park / Harbourfront",
            "text/html": "<div>\n<table border=\"1\" class=\"dataframe\">\n  <thead>\n    <tr style=\"text-align: right;\">\n      <th></th>\n      <th>Postal code</th>\n      <th>Borough</th>\n      <th>Neighborhood</th>\n    </tr>\n  </thead>\n  <tbody>\n    <tr>\n      <th>0</th>\n      <td>M1A</td>\n      <td>Not assigned</td>\n      <td>NaN</td>\n    </tr>\n    <tr>\n      <th>1</th>\n      <td>M2A</td>\n      <td>Not assigned</td>\n      <td>NaN</td>\n    </tr>\n    <tr>\n      <th>2</th>\n      <td>M3A</td>\n      <td>North York</td>\n      <td>Parkwoods</td>\n    </tr>\n    <tr>\n      <th>3</th>\n      <td>M4A</td>\n      <td>North York</td>\n      <td>Victoria Village</td>\n    </tr>\n    <tr>\n      <th>4</th>\n      <td>M5A</td>\n      <td>Downtown Toronto</td>\n      <td>Regent Park / Harbourfront</td>\n    </tr>\n  </tbody>\n</table>\n</div>"
          },
          "metadata": {}
        }
      ]
    },
    {
      "metadata": {
        "trusted": true
      },
      "cell_type": "code",
      "source": "#first we delete the rows where there is no Borough\n# Get names of indexes for which column Borough is 'Not assigned'\nindexNames = df[ df['Borough'] == 'Not assigned' ].index\n# Delete these row indexes from dataFrame\ndf.drop(indexNames , inplace=True)\ndf.head()",
      "execution_count": 4,
      "outputs": [
        {
          "output_type": "execute_result",
          "execution_count": 4,
          "data": {
            "text/plain": "  Postal code           Borough                                  Neighborhood\n2         M3A        North York                                     Parkwoods\n3         M4A        North York                              Victoria Village\n4         M5A  Downtown Toronto                    Regent Park / Harbourfront\n5         M6A        North York             Lawrence Manor / Lawrence Heights\n6         M7A  Downtown Toronto  Queen's Park / Ontario Provincial Government",
            "text/html": "<div>\n<table border=\"1\" class=\"dataframe\">\n  <thead>\n    <tr style=\"text-align: right;\">\n      <th></th>\n      <th>Postal code</th>\n      <th>Borough</th>\n      <th>Neighborhood</th>\n    </tr>\n  </thead>\n  <tbody>\n    <tr>\n      <th>2</th>\n      <td>M3A</td>\n      <td>North York</td>\n      <td>Parkwoods</td>\n    </tr>\n    <tr>\n      <th>3</th>\n      <td>M4A</td>\n      <td>North York</td>\n      <td>Victoria Village</td>\n    </tr>\n    <tr>\n      <th>4</th>\n      <td>M5A</td>\n      <td>Downtown Toronto</td>\n      <td>Regent Park / Harbourfront</td>\n    </tr>\n    <tr>\n      <th>5</th>\n      <td>M6A</td>\n      <td>North York</td>\n      <td>Lawrence Manor / Lawrence Heights</td>\n    </tr>\n    <tr>\n      <th>6</th>\n      <td>M7A</td>\n      <td>Downtown Toronto</td>\n      <td>Queen's Park / Ontario Provincial Government</td>\n    </tr>\n  </tbody>\n</table>\n</div>"
          },
          "metadata": {}
        }
      ]
    },
    {
      "metadata": {},
      "cell_type": "markdown",
      "source": "In the database produced the Neighborhoods are already combined if they have the same Postal code. they are separated bij '/' instead of ',' so this will need to be replaced."
    },
    {
      "metadata": {
        "trusted": true,
        "collapsed": true
      },
      "cell_type": "code",
      "source": "#Replace the ' /' by ','\ndf['Neighborhood'] = df['Neighborhood'].str.replace(' /',',')\nprint('Are there any duplicate values in Postal code:', df['Postal code'].duplicated().any())\ndf.describe()",
      "execution_count": 5,
      "outputs": [
        {
          "output_type": "stream",
          "text": "Are there any duplicate values in Postal code: False\n",
          "name": "stdout"
        },
        {
          "output_type": "execute_result",
          "execution_count": 5,
          "data": {
            "text/plain": "       Postal code     Borough Neighborhood\ncount          103         103          103\nunique         103          10           98\ntop            M4C  North York    Downsview\nfreq             1          24            4",
            "text/html": "<div>\n<table border=\"1\" class=\"dataframe\">\n  <thead>\n    <tr style=\"text-align: right;\">\n      <th></th>\n      <th>Postal code</th>\n      <th>Borough</th>\n      <th>Neighborhood</th>\n    </tr>\n  </thead>\n  <tbody>\n    <tr>\n      <th>count</th>\n      <td>103</td>\n      <td>103</td>\n      <td>103</td>\n    </tr>\n    <tr>\n      <th>unique</th>\n      <td>103</td>\n      <td>10</td>\n      <td>98</td>\n    </tr>\n    <tr>\n      <th>top</th>\n      <td>M4C</td>\n      <td>North York</td>\n      <td>Downsview</td>\n    </tr>\n    <tr>\n      <th>freq</th>\n      <td>1</td>\n      <td>24</td>\n      <td>4</td>\n    </tr>\n  </tbody>\n</table>\n</div>"
          },
          "metadata": {}
        }
      ]
    },
    {
      "metadata": {},
      "cell_type": "markdown",
      "source": "As shown below there are no cells left in the dataframe with a NaN value."
    },
    {
      "metadata": {
        "trusted": true,
        "collapsed": true
      },
      "cell_type": "code",
      "source": "df.isnull().sum(axis = 0)",
      "execution_count": 6,
      "outputs": [
        {
          "output_type": "execute_result",
          "execution_count": 6,
          "data": {
            "text/plain": "Postal code     0\nBorough         0\nNeighborhood    0\ndtype: int64"
          },
          "metadata": {}
        }
      ]
    },
    {
      "metadata": {
        "trusted": true,
        "collapsed": true
      },
      "cell_type": "code",
      "source": "df.shape",
      "execution_count": 7,
      "outputs": [
        {
          "output_type": "execute_result",
          "execution_count": 7,
          "data": {
            "text/plain": "(103, 3)"
          },
          "metadata": {}
        }
      ]
    },
    {
      "metadata": {},
      "cell_type": "markdown",
      "source": "## Assignment 2\nIn assignment 2 we are going to add the latlong coordinates of the postal codes.\n\nunfortunatly the geocoder package is not working so the CSV will be used."
    },
    {
      "metadata": {
        "trusted": true
      },
      "cell_type": "code",
      "source": "#first import the CSV file\nPostal_code = pd.read_csv('https://cocl.us/Geospatial_data')\nPostal_code.head()",
      "execution_count": 31,
      "outputs": [
        {
          "output_type": "execute_result",
          "execution_count": 31,
          "data": {
            "text/plain": "  Postal Code   Latitude  Longitude\n0         M1B  43.806686 -79.194353\n1         M1C  43.784535 -79.160497\n2         M1E  43.763573 -79.188711\n3         M1G  43.770992 -79.216917\n4         M1H  43.773136 -79.239476",
            "text/html": "<div>\n<table border=\"1\" class=\"dataframe\">\n  <thead>\n    <tr style=\"text-align: right;\">\n      <th></th>\n      <th>Postal Code</th>\n      <th>Latitude</th>\n      <th>Longitude</th>\n    </tr>\n  </thead>\n  <tbody>\n    <tr>\n      <th>0</th>\n      <td>M1B</td>\n      <td>43.806686</td>\n      <td>-79.194353</td>\n    </tr>\n    <tr>\n      <th>1</th>\n      <td>M1C</td>\n      <td>43.784535</td>\n      <td>-79.160497</td>\n    </tr>\n    <tr>\n      <th>2</th>\n      <td>M1E</td>\n      <td>43.763573</td>\n      <td>-79.188711</td>\n    </tr>\n    <tr>\n      <th>3</th>\n      <td>M1G</td>\n      <td>43.770992</td>\n      <td>-79.216917</td>\n    </tr>\n    <tr>\n      <th>4</th>\n      <td>M1H</td>\n      <td>43.773136</td>\n      <td>-79.239476</td>\n    </tr>\n  </tbody>\n</table>\n</div>"
          },
          "metadata": {}
        }
      ]
    },
    {
      "metadata": {
        "trusted": true
      },
      "cell_type": "code",
      "source": "#Then we join the two files and check if there are no empty values, the amount of rows are still the same and show the head of the dataframe\ndf_ll = df.join(Postal_code.set_index('Postal Code'), on='Postal code')\nprint(df_ll.isnull().sum(axis = 0))\nprint(df_ll.shape)\ndf_ll.head(10)",
      "execution_count": 36,
      "outputs": [
        {
          "output_type": "stream",
          "text": "Postal code     0\nBorough         0\nNeighborhood    0\nLatitude        0\nLongitude       0\ndtype: int64\n(103, 5)\n",
          "name": "stdout"
        },
        {
          "output_type": "execute_result",
          "execution_count": 36,
          "data": {
            "text/plain": "   Postal code           Borough                                 Neighborhood  \\\n2          M3A        North York                                    Parkwoods   \n3          M4A        North York                             Victoria Village   \n4          M5A  Downtown Toronto                    Regent Park, Harbourfront   \n5          M6A        North York             Lawrence Manor, Lawrence Heights   \n6          M7A  Downtown Toronto  Queen's Park, Ontario Provincial Government   \n8          M9A         Etobicoke                             Islington Avenue   \n9          M1B       Scarborough                               Malvern, Rouge   \n11         M3B        North York                                    Don Mills   \n12         M4B         East York              Parkview Hill, Woodbine Gardens   \n13         M5B  Downtown Toronto                     Garden District, Ryerson   \n\n     Latitude  Longitude  \n2   43.753259 -79.329656  \n3   43.725882 -79.315572  \n4   43.654260 -79.360636  \n5   43.718518 -79.464763  \n6   43.662301 -79.389494  \n8   43.667856 -79.532242  \n9   43.806686 -79.194353  \n11  43.745906 -79.352188  \n12  43.706397 -79.309937  \n13  43.657162 -79.378937  ",
            "text/html": "<div>\n<table border=\"1\" class=\"dataframe\">\n  <thead>\n    <tr style=\"text-align: right;\">\n      <th></th>\n      <th>Postal code</th>\n      <th>Borough</th>\n      <th>Neighborhood</th>\n      <th>Latitude</th>\n      <th>Longitude</th>\n    </tr>\n  </thead>\n  <tbody>\n    <tr>\n      <th>2</th>\n      <td>M3A</td>\n      <td>North York</td>\n      <td>Parkwoods</td>\n      <td>43.753259</td>\n      <td>-79.329656</td>\n    </tr>\n    <tr>\n      <th>3</th>\n      <td>M4A</td>\n      <td>North York</td>\n      <td>Victoria Village</td>\n      <td>43.725882</td>\n      <td>-79.315572</td>\n    </tr>\n    <tr>\n      <th>4</th>\n      <td>M5A</td>\n      <td>Downtown Toronto</td>\n      <td>Regent Park, Harbourfront</td>\n      <td>43.654260</td>\n      <td>-79.360636</td>\n    </tr>\n    <tr>\n      <th>5</th>\n      <td>M6A</td>\n      <td>North York</td>\n      <td>Lawrence Manor, Lawrence Heights</td>\n      <td>43.718518</td>\n      <td>-79.464763</td>\n    </tr>\n    <tr>\n      <th>6</th>\n      <td>M7A</td>\n      <td>Downtown Toronto</td>\n      <td>Queen's Park, Ontario Provincial Government</td>\n      <td>43.662301</td>\n      <td>-79.389494</td>\n    </tr>\n    <tr>\n      <th>8</th>\n      <td>M9A</td>\n      <td>Etobicoke</td>\n      <td>Islington Avenue</td>\n      <td>43.667856</td>\n      <td>-79.532242</td>\n    </tr>\n    <tr>\n      <th>9</th>\n      <td>M1B</td>\n      <td>Scarborough</td>\n      <td>Malvern, Rouge</td>\n      <td>43.806686</td>\n      <td>-79.194353</td>\n    </tr>\n    <tr>\n      <th>11</th>\n      <td>M3B</td>\n      <td>North York</td>\n      <td>Don Mills</td>\n      <td>43.745906</td>\n      <td>-79.352188</td>\n    </tr>\n    <tr>\n      <th>12</th>\n      <td>M4B</td>\n      <td>East York</td>\n      <td>Parkview Hill, Woodbine Gardens</td>\n      <td>43.706397</td>\n      <td>-79.309937</td>\n    </tr>\n    <tr>\n      <th>13</th>\n      <td>M5B</td>\n      <td>Downtown Toronto</td>\n      <td>Garden District, Ryerson</td>\n      <td>43.657162</td>\n      <td>-79.378937</td>\n    </tr>\n  </tbody>\n</table>\n</div>"
          },
          "metadata": {}
        }
      ]
    }
  ],
  "metadata": {
    "kernelspec": {
      "name": "python3",
      "display_name": "Python 3",
      "language": "python"
    },
    "language_info": {
      "mimetype": "text/x-python",
      "nbconvert_exporter": "python",
      "name": "python",
      "pygments_lexer": "ipython3",
      "version": "3.5.4",
      "file_extension": ".py",
      "codemirror_mode": {
        "version": 3,
        "name": "ipython"
      }
    }
  },
  "nbformat": 4,
  "nbformat_minor": 2
}
