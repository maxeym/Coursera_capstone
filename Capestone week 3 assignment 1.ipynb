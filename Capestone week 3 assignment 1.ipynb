{
  "cells": [
    {
      "metadata": {},
      "cell_type": "markdown",
      "source": "# Segmenting and Clustering Neighborhoods in Toronto\nThis notebook is used for the pear-graded assignment of the data science capstone course, week 3."
    },
    {
      "metadata": {},
      "cell_type": "markdown",
      "source": "there are tree sub assignments to do. they will be marked by titles for quick reference:\n    - assignment 1\n    - assignment 2\n    - assignment 3"
    },
    {
      "metadata": {},
      "cell_type": "markdown",
      "source": "Before we get the data and start exploring it, let's download all the dependencies that we will need."
    },
    {
      "metadata": {
        "trusted": true,
        "collapsed": true
      },
      "cell_type": "code",
      "source": "import numpy as np # library to handle data in a vectorized manner\n\nimport pandas as pd # library for data analsysis\npd.set_option('display.max_columns', None)\npd.set_option('display.max_rows', None)\n\nimport json # library to handle JSON files\n\nimport requests # library to handle requests\nfrom pandas.io.json import json_normalize # tranform JSON file into a pandas dataframe\n\n# Matplotlib and associated plotting modules\nimport matplotlib.cm as cm\nimport matplotlib.colors as colors\n\n# import k-means from clustering stage\nfrom sklearn.cluster import KMeans\n\nprint('Libraries imported.')",
      "execution_count": 1,
      "outputs": [
        {
          "output_type": "stream",
          "text": "Fetching package metadata .............\nSolving package specifications: .\n\nPackage plan for installation in environment /home/nbuser/anaconda3_420:\n\nThe following NEW packages will be INSTALLED:\n\n    _libgcc_mutex: 0.1-main         conda-forge\n    geographiclib: 1.50-py_0        conda-forge\n    geopy:         1.21.0-py_0      conda-forge\n    readline:      7.0-ha6073c6_4              \n\nThe following packages will be UPDATED:\n\n    conda:         4.3.31-py35_0                --> 4.5.11-py35_0        conda-forge\n    pycosat:       0.6.1-py35_1                 --> 0.6.3-py35h470a237_1 conda-forge\n\nThe following packages will be SUPERSEDED by a higher-priority channel:\n\n    conda-env:     2.6.0-h36134e3_1             --> 2.6.0-1              conda-forge\n\n_libgcc_mutex- 100% |################################| Time: 0:00:00   1.66 MB/s\nconda-env-2.6. 100% |################################| Time: 0:00:00 930.68 kB/s\nreadline-7.0-h 100% |################################| Time: 0:00:00  17.76 MB/s\ngeographiclib- 100% |################################| Time: 0:00:00  11.80 MB/s\npycosat-0.6.3- 100% |################################| Time: 0:00:00   7.79 MB/s\ngeopy-1.21.0-p 100% |################################| Time: 0:00:00  31.09 MB/s\nconda-4.5.11-p 100% |################################| Time: 0:00:00  19.52 MB/s\nSolving environment: done\n\n\n==> WARNING: A newer version of conda exists. <==\n  current version: 4.5.11\n  latest version: 4.8.3\n\nPlease update conda by running\n\n    $ conda update -n base conda\n\n\n\n## Package Plan ##\n\n  environment location: /home/nbuser/anaconda3_420\n\n  added / updated specs: \n    - folium=0.5.0\n\n\nThe following packages will be downloaded:\n\n    package                    |            build\n    ---------------------------|-----------------\n    folium-0.5.0               |             py_0          45 KB  conda-forge\n    tbb-2019.3                 |       h2d50403_0         1.2 MB  conda-forge\n    numpy-1.15.0               |   py35h1b885b7_0          35 KB\n    mkl_fft-1.0.9              |           py35_0         637 KB  conda-forge\n    altair-4.1.0               |             py_0         612 KB  conda-forge\n    pandas-0.23.4              |   py35hf8a1672_0        27.2 MB  conda-forge\n    vincent-0.4.4              |             py_1          28 KB  conda-forge\n    tbb4py-2019.1              |   py35h2d50403_0         329 KB  conda-forge\n    mkl_random-1.0.1           |           py35_0         1.2 MB  conda-forge\n    numpy-base-1.15.0          |   py35h3dfced4_0         4.2 MB\n    branca-0.4.0               |             py_0          26 KB  conda-forge\n    ------------------------------------------------------------\n                                           Total:        35.5 MB\n\nThe following NEW packages will be INSTALLED:\n\n    altair:     4.1.0-py_0            conda-forge\n    branca:     0.4.0-py_0            conda-forge\n    folium:     0.5.0-py_0            conda-forge\n    mkl_fft:    1.0.9-py35_0          conda-forge\n    mkl_random: 1.0.1-py35_0          conda-forge\n    tbb:        2019.3-h2d50403_0     conda-forge\n    tbb4py:     2019.1-py35h2d50403_0 conda-forge\n    vincent:    0.4.4-py_1            conda-forge\n\nThe following packages will be UPDATED:\n\n    numpy:      1.11.3-py35h1b885b7_9             --> 1.15.0-py35h1b885b7_0            \n    numpy-base: 1.11.3-py35h3dfced4_9             --> 1.15.0-py35h3dfced4_0            \n    pandas:     0.19.2-np111py35_1                --> 0.23.4-py35hf8a1672_0 conda-forge\n\n\nDownloading and Extracting Packages\nfolium-0.5.0         | 45 KB     | ##################################### | 100% \ntbb-2019.3           | 1.2 MB    | ##################################### | 100% \nnumpy-1.15.0         | 35 KB     | ##################################### | 100% \nmkl_fft-1.0.9        | 637 KB    | ##################################### | 100% \naltair-4.1.0         | 612 KB    | ##################################### | 100% \npandas-0.23.4        | 27.2 MB   | ##################################### | 100% \nvincent-0.4.4        | 28 KB     | ##################################### | 100% \ntbb4py-2019.1        | 329 KB    | ##################################### | 100% \nmkl_random-1.0.1     | 1.2 MB    | ##################################### | 100% \nnumpy-base-1.15.0    | 4.2 MB    | ##################################### | 100% \nbranca-0.4.0         | 26 KB     | ##################################### | 100% \nPreparing transaction: done\nVerifying transaction: done\nExecuting transaction: done\nLibraries imported.\n",
          "name": "stdout"
        }
      ]
    },
    {
      "metadata": {
        "trusted": true
      },
      "cell_type": "code",
      "source": "!conda install -c conda-forge geopy --yes # uncomment this line if you haven't completed the Foursquare API lab\nfrom geopy.geocoders import Nominatim # convert an address into latitude and longitude values\n\n!conda install -c conda-forge folium=0.5.0 --yes # uncomment this line if you haven't completed the Foursquare API lab\nimport folium # map rendering library",
      "execution_count": null,
      "outputs": []
    },
    {
      "metadata": {},
      "cell_type": "markdown",
      "source": "## assignment 1\nIn this assignment we wil scrape date from the following wikipedia page (https://en.wikipedia.org/wiki/List_of_postal_codes_of_Canada:_M) and insert it in an pandas dataframe."
    },
    {
      "metadata": {
        "trusted": true,
        "collapsed": true
      },
      "cell_type": "code",
      "source": "#first we need to install the BeautifulSoup package\n!conda install -c anaconda beautifulsoup4 --yes",
      "execution_count": 2,
      "outputs": [
        {
          "output_type": "stream",
          "text": "Solving environment: done\n\n\n==> WARNING: A newer version of conda exists. <==\n  current version: 4.5.11\n  latest version: 4.8.3\n\nPlease update conda by running\n\n    $ conda update -n base conda\n\n\n\n## Package Plan ##\n\n  environment location: /home/nbuser/anaconda3_420\n\n  added / updated specs: \n    - beautifulsoup4\n\n\nThe following packages will be downloaded:\n\n    package                    |            build\n    ---------------------------|-----------------\n    openssl-1.0.2n             |       hb7f436b_0         3.4 MB  anaconda\n    beautifulsoup4-4.6.3       |           py35_0         140 KB  anaconda\n    ca-certificates-2017.08.26 |       h1d4fec5_0         263 KB  anaconda\n    ------------------------------------------------------------\n                                           Total:         3.8 MB\n\nThe following packages will be UPDATED:\n\n    beautifulsoup4:  4.5.1-py35_0          --> 4.6.3-py35_0          anaconda\n    ca-certificates: 2017.08.26-h1d4fec5_0 --> 2017.08.26-h1d4fec5_0 anaconda\n    openssl:         1.0.2n-hb7f436b_0     --> 1.0.2n-hb7f436b_0     anaconda\n\n\nDownloading and Extracting Packages\nopenssl-1.0.2n       | 3.4 MB    | ##################################### | 100% \nbeautifulsoup4-4.6.3 | 140 KB    | ##################################### | 100% \nca-certificates-2017 | 263 KB    | ##################################### | 100% \nPreparing transaction: done\nVerifying transaction: done\nExecuting transaction: done\n",
          "name": "stdout"
        }
      ]
    },
    {
      "metadata": {},
      "cell_type": "markdown",
      "source": "To get the dataframe into pandas we will use beautifulsoup to scrape the website and turn it into a dataframe. "
    },
    {
      "metadata": {
        "trusted": true
      },
      "cell_type": "code",
      "source": "from bs4 import BeautifulSoup\n# Here, we're just importing Beautiful Soup\npage_link = 'https://en.m.wikipedia.org/wiki/List_of_postal_codes_of_Canada:_M'\n# this is the url.\npage_response = requests.get(page_link, timeout=5)\n# here, we fetch the content from the url, using the requests library\nsoup = BeautifulSoup(page_response.content, \"html.parser\")\n#we use the html parser to parse the url content and store it in a variable.\ntable = soup.find_all('table')\ndf = pd.read_html(str(table), header=0)[0]",
      "execution_count": 23,
      "outputs": []
    },
    {
      "metadata": {},
      "cell_type": "markdown",
      "source": "Now we got the raw table from the website into a pandas dataframe. the next step is to explore and clean the data."
    },
    {
      "metadata": {
        "trusted": true
      },
      "cell_type": "code",
      "source": "print(df.shape)\ndf.head()",
      "execution_count": 24,
      "outputs": [
        {
          "output_type": "stream",
          "text": "(180, 3)\n",
          "name": "stdout"
        },
        {
          "output_type": "execute_result",
          "execution_count": 24,
          "data": {
            "text/plain": "  Postal code           Borough                Neighborhood\n0         M1A      Not assigned                         NaN\n1         M2A      Not assigned                         NaN\n2         M3A        North York                   Parkwoods\n3         M4A        North York            Victoria Village\n4         M5A  Downtown Toronto  Regent Park / Harbourfront",
            "text/html": "<div>\n<table border=\"1\" class=\"dataframe\">\n  <thead>\n    <tr style=\"text-align: right;\">\n      <th></th>\n      <th>Postal code</th>\n      <th>Borough</th>\n      <th>Neighborhood</th>\n    </tr>\n  </thead>\n  <tbody>\n    <tr>\n      <th>0</th>\n      <td>M1A</td>\n      <td>Not assigned</td>\n      <td>NaN</td>\n    </tr>\n    <tr>\n      <th>1</th>\n      <td>M2A</td>\n      <td>Not assigned</td>\n      <td>NaN</td>\n    </tr>\n    <tr>\n      <th>2</th>\n      <td>M3A</td>\n      <td>North York</td>\n      <td>Parkwoods</td>\n    </tr>\n    <tr>\n      <th>3</th>\n      <td>M4A</td>\n      <td>North York</td>\n      <td>Victoria Village</td>\n    </tr>\n    <tr>\n      <th>4</th>\n      <td>M5A</td>\n      <td>Downtown Toronto</td>\n      <td>Regent Park / Harbourfront</td>\n    </tr>\n  </tbody>\n</table>\n</div>"
          },
          "metadata": {}
        }
      ]
    },
    {
      "metadata": {
        "trusted": true
      },
      "cell_type": "code",
      "source": "#first we delete the rows where there is no Borough\n# Get names of indexes for which column Borough is 'Not assigned'\nindexNames = df[ df['Borough'] == 'Not assigned' ].index\n# Delete these row indexes from dataFrame\ndf.drop(indexNames , inplace=True)\ndf.head()",
      "execution_count": 25,
      "outputs": [
        {
          "output_type": "execute_result",
          "execution_count": 25,
          "data": {
            "text/plain": "  Postal code           Borough                                  Neighborhood\n2         M3A        North York                                     Parkwoods\n3         M4A        North York                              Victoria Village\n4         M5A  Downtown Toronto                    Regent Park / Harbourfront\n5         M6A        North York             Lawrence Manor / Lawrence Heights\n6         M7A  Downtown Toronto  Queen's Park / Ontario Provincial Government",
            "text/html": "<div>\n<table border=\"1\" class=\"dataframe\">\n  <thead>\n    <tr style=\"text-align: right;\">\n      <th></th>\n      <th>Postal code</th>\n      <th>Borough</th>\n      <th>Neighborhood</th>\n    </tr>\n  </thead>\n  <tbody>\n    <tr>\n      <th>2</th>\n      <td>M3A</td>\n      <td>North York</td>\n      <td>Parkwoods</td>\n    </tr>\n    <tr>\n      <th>3</th>\n      <td>M4A</td>\n      <td>North York</td>\n      <td>Victoria Village</td>\n    </tr>\n    <tr>\n      <th>4</th>\n      <td>M5A</td>\n      <td>Downtown Toronto</td>\n      <td>Regent Park / Harbourfront</td>\n    </tr>\n    <tr>\n      <th>5</th>\n      <td>M6A</td>\n      <td>North York</td>\n      <td>Lawrence Manor / Lawrence Heights</td>\n    </tr>\n    <tr>\n      <th>6</th>\n      <td>M7A</td>\n      <td>Downtown Toronto</td>\n      <td>Queen's Park / Ontario Provincial Government</td>\n    </tr>\n  </tbody>\n</table>\n</div>"
          },
          "metadata": {}
        }
      ]
    },
    {
      "metadata": {},
      "cell_type": "markdown",
      "source": "In the database produced the Neighborhoods are already combined if they have the same Postal code. they are separated bij '/' instead of ',' so this will need to be replaced."
    },
    {
      "metadata": {
        "trusted": true
      },
      "cell_type": "code",
      "source": "#Replace the ' /' by ','\ndf['Neighborhood'] = df['Neighborhood'].str.replace(' /',',')\nprint('Are there any duplicate values in Postal code:', df['Postal code'].duplicated().any())\ndf.describe()",
      "execution_count": 26,
      "outputs": [
        {
          "output_type": "stream",
          "text": "Are there any duplicate values in Postal code: False\n",
          "name": "stdout"
        },
        {
          "output_type": "execute_result",
          "execution_count": 26,
          "data": {
            "text/plain": "       Postal code     Borough Neighborhood\ncount          103         103          103\nunique         103          10           98\ntop            M5A  North York    Downsview\nfreq             1          24            4",
            "text/html": "<div>\n<table border=\"1\" class=\"dataframe\">\n  <thead>\n    <tr style=\"text-align: right;\">\n      <th></th>\n      <th>Postal code</th>\n      <th>Borough</th>\n      <th>Neighborhood</th>\n    </tr>\n  </thead>\n  <tbody>\n    <tr>\n      <th>count</th>\n      <td>103</td>\n      <td>103</td>\n      <td>103</td>\n    </tr>\n    <tr>\n      <th>unique</th>\n      <td>103</td>\n      <td>10</td>\n      <td>98</td>\n    </tr>\n    <tr>\n      <th>top</th>\n      <td>M5A</td>\n      <td>North York</td>\n      <td>Downsview</td>\n    </tr>\n    <tr>\n      <th>freq</th>\n      <td>1</td>\n      <td>24</td>\n      <td>4</td>\n    </tr>\n  </tbody>\n</table>\n</div>"
          },
          "metadata": {}
        }
      ]
    },
    {
      "metadata": {},
      "cell_type": "markdown",
      "source": "As shown below there are no cells left in the dataframe with a NaN value."
    },
    {
      "metadata": {
        "trusted": true
      },
      "cell_type": "code",
      "source": "df.isnull().sum(axis = 0)",
      "execution_count": 28,
      "outputs": [
        {
          "output_type": "execute_result",
          "execution_count": 28,
          "data": {
            "text/plain": "Postal code     0\nBorough         0\nNeighborhood    0\ndtype: int64"
          },
          "metadata": {}
        }
      ]
    },
    {
      "metadata": {
        "trusted": true
      },
      "cell_type": "code",
      "source": "df.shape",
      "execution_count": 31,
      "outputs": [
        {
          "output_type": "execute_result",
          "execution_count": 31,
          "data": {
            "text/plain": "(103, 3)"
          },
          "metadata": {}
        }
      ]
    }
  ],
  "metadata": {
    "kernelspec": {
      "name": "python3",
      "display_name": "Python 3",
      "language": "python"
    },
    "language_info": {
      "mimetype": "text/x-python",
      "nbconvert_exporter": "python",
      "name": "python",
      "file_extension": ".py",
      "version": "3.5.4",
      "pygments_lexer": "ipython3",
      "codemirror_mode": {
        "version": 3,
        "name": "ipython"
      }
    }
  },
  "nbformat": 4,
  "nbformat_minor": 2
}